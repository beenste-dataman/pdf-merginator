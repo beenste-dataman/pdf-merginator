{
  "nbformat": 4,
  "nbformat_minor": 0,
  "metadata": {
    "colab": {
      "provenance": []
    },
    "kernelspec": {
      "name": "python3",
      "display_name": "Python 3"
    },
    "language_info": {
      "name": "python"
    }
  },
  "cells": [
    {
      "cell_type": "markdown",
      "source": [
        "\n",
        "\n",
        "\n",
        "---\n",
        "\n",
        "\n",
        "\n",
        "---\n",
        "\n",
        "\n",
        "# PDF Merger Tool\n",
        "\n",
        "The PDF Merger is a Python script designed for notebook environments, allowing you to easily combine multiple PDF files into a single, merged PDF document. It utilizes the `PyPDF2` library to perform the merging process efficiently. The tool offers flexibility by letting you merge any number of PDF files, not limited to just three. Follow the instructions below to use the PDF Merger and create your consolidated PDF.\n",
        "\n",
        "**1. Import the Required Library:**\n",
        "Before using the PDF Merger, make sure you have the `PyPDF2` library installed in your Python environment. If not, install it using the following command:\n",
        "\n",
        "\n",
        "---\n",
        "\n",
        "\n",
        "\n",
        "---\n",
        "\n",
        "\n",
        "\n"
      ],
      "metadata": {
        "id": "rauhVBNLOt4Q"
      }
    },
    {
      "cell_type": "code",
      "execution_count": null,
      "metadata": {
        "id": "3ELeLMsgIrEf"
      },
      "outputs": [],
      "source": [
        "!pip install PyPDF2"
      ]
    },
    {
      "cell_type": "markdown",
      "source": [
        "\n",
        "\n",
        "---\n",
        "\n",
        "\n",
        "\n",
        "---\n",
        "\n",
        "\n",
        "\n",
        "After running the cell below, the PDF Merger will combine the specified PDF files based on the order in the pdf_files list. The merged PDF will be saved as combined.pdf (or your chosen output filename) in the same directory as the notebook.\n",
        "\n",
        "That's it! You've successfully used the PDF Merger tool to consolidate your PDF files. Feel free to adjust the list of PDF files or the output filename according to your needs.\n",
        "\n",
        "Enjoy using the PDF Merger for all your PDF combining needs!\n",
        "\n",
        "\n",
        "\n",
        "---\n",
        "\n",
        "\n",
        "\n",
        "---\n",
        "\n"
      ],
      "metadata": {
        "id": "5tDsdZjVPn_R"
      }
    },
    {
      "cell_type": "code",
      "source": [
        "#@title Run this cell to fire up the script! Hit the play button to the left!\n",
        "\n",
        "import PyPDF2\n",
        "\n",
        "def merge_pdfs(pdf_list, output_filename):\n",
        "    pdf_merger = PyPDF2.PdfMerger()\n",
        "\n",
        "    for pdf_file in pdf_list:\n",
        "        with open(pdf_file, 'rb') as file:\n",
        "            pdf_merger.append(file)\n",
        "\n",
        "    with open(output_filename, 'wb') as output_file:\n",
        "        pdf_merger.write(output_file)\n",
        "\n",
        "if __name__ == '__main__':\n",
        "    print(r'''\n",
        "   _____          __  __ _\n",
        "  / ____|   /\\   |  \\/  (_)\n",
        " | |  __   /  \\  | \\  / |_ _ __\n",
        " | | |_ | / /\\ \\ | |\\/| | | '_ \\\n",
        " | |__| |/ ____ \\| |  | | | | | |\n",
        "  \\_____/_/    \\_\\_|  |_|_|_| |_| big companies that monopolize and charge too much for simple shit liek this v1.0\n",
        "\n",
        "''')\n",
        "    print(\"Welcome to the PDF Merger!\")\n",
        "    print(\"Please follow the instructions below to merge your PDF files.\")\n",
        "    print(\"--------------------------------------------------------------\")\n",
        "\n",
        "    num_pdfs = int(input(\"Enter the total number of PDF files you want to merge: \"))\n",
        "    pdf_files = []\n",
        "\n",
        "    for i in range(1, num_pdfs + 1):\n",
        "        pdf_file = input(f\"Enter the path of PDF file {i}: \")\n",
        "        pdf_files.append(pdf_file)\n",
        "\n",
        "    output_filename = input(\"Enter the output filename for the combined PDF: \")\n",
        "\n",
        "    merge_pdfs(pdf_files, output_filename)\n",
        "\n",
        "    print(\"--------------------------------------------------------------\")\n",
        "    print(\"PDF files successfully merged into:\", output_filename)\n",
        "    print(\"Thank you for using the PDF Merger!\")\n"
      ],
      "metadata": {
        "cellView": "form",
        "id": "dK0FTh6OKDWf"
      },
      "execution_count": null,
      "outputs": []
    }
  ]
}